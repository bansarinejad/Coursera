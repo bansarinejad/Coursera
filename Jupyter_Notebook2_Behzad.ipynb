{
 "cells": [
  {
   "cell_type": "markdown",
   "id": "907ed1d4-d8f2-42e9-b3b1-f65ca615f6aa",
   "metadata": {},
   "source": [
    "# My Jupyter Notebook (Coursera assignment)"
   ]
  },
  {
   "cell_type": "markdown",
   "id": "591c8e96-efed-419a-925c-30be36554949",
   "metadata": {},
   "source": [
    "This is an introduction to the assignment"
   ]
  },
  {
   "cell_type": "markdown",
   "id": "e69aa1e4-a324-4051-9831-f899488d2021",
   "metadata": {},
   "source": [
    "Here are some data science languages:\n",
    "\n",
    "<ol>\n",
    "<li>Python</li>\n",
    "<li>R</li>\n",
    "<li>SQL</li>\n",
    "<li>Julia</li>\n",
    "</ol>\n"
   ]
  },
  {
   "cell_type": "markdown",
   "id": "0e533f48-44e1-4216-b1ab-d8e3dc889a6d",
   "metadata": {},
   "source": [
    "Here are some data science libraries:\n",
    "\n",
    "<ol>\n",
    "<li>Scikit-learn</li>\n",
    "<li>TensorFlow</li>\n",
    "<li>PyTorch</li>\n",
    "<li>Numpy</li>\n",
    "<li>Scipy</li>\n",
    "</ol>"
   ]
  },
  {
   "cell_type": "markdown",
   "id": "3920c885-49e8-4e26-809a-5676832b8188",
   "metadata": {},
   "source": [
    "| Category           | Tools                            |\n",
    "|--------------------|---------------------------------|\n",
    "| Data Analysis      | Python (pandas, numpy)           |\n",
    "| Data Visualization | Tableau, PowerBI        |\n",
    "| Machine Learning   | Scikit-learn, TensorFlow, Keras  |\n",
    "\n"
   ]
  },
  {
   "cell_type": "markdown",
   "id": "f53c5c0d-07b4-4d61-b1cb-7a257f188e26",
   "metadata": {},
   "source": [
    "Addition: 2 + 3 evaluates to 5\n",
    "\n",
    "Subtraction: 5 - 2 evaluates to 3\n",
    "\n",
    "Multiplication: 4 * 3 evaluates to 12\n",
    "\n",
    "Division: 10 / 2 evaluates to 5"
   ]
  },
  {
   "cell_type": "code",
   "execution_count": 6,
   "id": "2fde015b-8373-4046-b6b9-2efd73f4b4e1",
   "metadata": {},
   "outputs": [
    {
     "name": "stdout",
     "output_type": "stream",
     "text": [
      "The product of 5 and 7 is 35\n",
      "The sum of 3 and 9 is 12\n"
     ]
    }
   ],
   "source": [
    "# multiply two numbers\n",
    "num1 = 5\n",
    "num2 = 7\n",
    "product = num1 * num2\n",
    "print(\"The product of\", num1, \"and\", num2, \"is\", product)\n",
    "\n",
    "# add two numbers\n",
    "num3 = 3\n",
    "num4 = 9\n",
    "sum = num3 + num4\n",
    "print(\"The sum of\", num3, \"and\", num4, \"is\", sum)"
   ]
  },
  {
   "cell_type": "code",
   "execution_count": 7,
   "id": "7037a595-a332-4cce-b11b-14134774ca09",
   "metadata": {},
   "outputs": [
    {
     "name": "stdout",
     "output_type": "stream",
     "text": [
      "120 minutes is equal to 2.0 hours\n"
     ]
    }
   ],
   "source": [
    "# convert minutes to hours\n",
    "minutes = 120\n",
    "hours = minutes / 60\n",
    "print(minutes, \"minutes is equal to\", hours, \"hours\")"
   ]
  },
  {
   "cell_type": "markdown",
   "id": "3aba386f-bf13-4545-af4b-974e1a8f1862",
   "metadata": {},
   "source": [
    "Here is the list of objectives: \n",
    "<ul>\n",
    "<li>Exercise 2 - Create a markdown cell with the title of the notebook. (1 pt)</li>\n",
    "\n",
    "<li>Exercise 3 - Create a markdown cell for an introduction. (1 pt)</li>\n",
    "\n",
    "<li>Exercise 4 - Create a markdown cell to list data science languages. (3 pts)</li>\n",
    "\n",
    "<li>Exercise 5 - Create a markdown cell to list data science libraries. (3 pts)</li>\n",
    "\n",
    "<li>Exercise 6 - Create a markdown cell with a table of Data Science tools. (3 pts)</li>\n",
    "\n",
    "<li>Exercise 7 - Create a markdown cell introducing arithmetic expression examples. (1 pt)</li>\n",
    "\n",
    "<li>Exercise 8 - Create a code cell to multiply and add numbers.(2 pts)</li>\n",
    "\n",
    "<li>Exercise 9 - Create a code cell to convert minutes to hours. (2 pts)</li>\n",
    "\n",
    "<li>Exercise 10 -Insert a markdown cell to list Objectives. (3 pts)</li>\n",
    "\n",
    "<li>Exercise 11 - Create a markdown cell to indicate the Author’s name. (2 pts)</li>\n",
    "\n",
    "<li>Exercise 12 - Share your notebook through GitHub (3 pts)</li>\n",
    "\n",
    "<li>Exercise 13 - Take a screenshot of the first page of the notebook. (1 pt)</li>\n",
    "\n",
    "</ul>\n"
   ]
  },
  {
   "cell_type": "markdown",
   "id": "b261f0c1-a409-4c36-a47b-469be7d58de9",
   "metadata": {},
   "source": [
    "## Author name: Behzad Ansarinejad"
   ]
  },
  {
   "cell_type": "code",
   "execution_count": null,
   "id": "dd581ecd-1fff-494d-a481-d0f0378571e9",
   "metadata": {},
   "outputs": [],
   "source": []
  }
 ],
 "metadata": {
  "kernelspec": {
   "display_name": "Python",
   "language": "python",
   "name": "conda-env-python-py"
  },
  "language_info": {
   "codemirror_mode": {
    "name": "ipython",
    "version": 3
   },
   "file_extension": ".py",
   "mimetype": "text/x-python",
   "name": "python",
   "nbconvert_exporter": "python",
   "pygments_lexer": "ipython3",
   "version": "3.7.12"
  }
 },
 "nbformat": 4,
 "nbformat_minor": 5
}
